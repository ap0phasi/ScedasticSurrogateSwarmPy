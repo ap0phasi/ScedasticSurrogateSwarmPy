{
 "cells": [
  {
   "cell_type": "markdown",
   "metadata": {},
   "source": [
    "# Scedastic Surrogate Swarm Tests"
   ]
  },
  {
   "cell_type": "code",
   "execution_count": null,
   "metadata": {},
   "outputs": [],
   "source": [
    "from sssopy import SurrogateSearch, SSSoProblem, SurrogateSwarm, plot_optimizer_results_with_rec\n",
    "import numpy as np"
   ]
  },
  {
   "cell_type": "code",
   "execution_count": null,
   "metadata": {},
   "outputs": [],
   "source": [
    "def model_function(params,args):\n",
    "    input_vals, check = args\n",
    "    modval = params[0] * np.cos(input_vals * params[1]) + params[1] * np.sin(input_vals * params[0])\n",
    "    #modval = params[0] + input_vals**2 * params[1]**2\n",
    "    global objective_function_calls\n",
    "    objective_function_calls += 1\n",
    "    return modval\n",
    "\n",
    "def ineq_constraints(params):\n",
    "    # ineq1 = (params[0]-params[1])\n",
    "    # ineq2 = (params[0]-params[1])\n",
    "    return [0]\n",
    "\n",
    "def eq_constraints(params):\n",
    "    # eq1 = (params[0]+params[1])-0.72\n",
    "    return [0]\n"
   ]
  },
  {
   "cell_type": "code",
   "execution_count": null,
   "metadata": {},
   "outputs": [],
   "source": [
    "objective_function_calls = 0\n",
    "\n",
    "check = 1\n",
    "xdat = np.arange(1, 100.5, 0.5)\n",
    "params = np.array([0.32, 0.4])\n",
    "opt_problem = SSSoProblem(model_function = model_function,\n",
    "                            ineq_constraints = ineq_constraints,\n",
    "                            eq_constraints = eq_constraints,\n",
    "                            args = (xdat,check)\n",
    "                            )\n",
    "ydat = opt_problem.eval_function(params)\n"
   ]
  },
  {
   "cell_type": "markdown",
   "metadata": {},
   "source": [
    "## Surrogate Swarm Test"
   ]
  },
  {
   "cell_type": "code",
   "execution_count": null,
   "metadata": {},
   "outputs": [],
   "source": [
    "objective_function_calls = 0\n",
    "\n",
    "swarmer = SurrogateSwarm(opt_problem,\n",
    "                            ydat,\n",
    "                            2,\n",
    "                            [0,0],\n",
    "                            [1,1])\n",
    "\n",
    "for itt in range(3):\n",
    "        swarmer.step_swarm()\n",
    "        swarmer.swarm_state[\"surrogate_recommendations\"]\n",
    "        plot_optimizer_results_with_rec(swarmer.swarm_state[\"pos_x\"],\n",
    "                               xdat,\n",
    "                               ydat,\n",
    "                               swarmer.swarm_state[\"surrogatesaves\"],\n",
    "                               swarmer.swarm_state[\"centersaves\"],\n",
    "                               swarmer.swarm_state[\"surrogate_recommendations\"],\n",
    "                               optproblem = opt_problem\n",
    "                               )\n",
    "        # print(np.mean(swarmer.swarm_state[\"pos_x\"],axis = 0))\n",
    "        print(swarmer.swarm_state[\"surrogate_recommendations\"])\n",
    "        print(f\"Objective Function Calls: {objective_function_calls}\")"
   ]
  },
  {
   "cell_type": "markdown",
   "metadata": {},
   "source": [
    "## Surrogate Search Test"
   ]
  },
  {
   "cell_type": "code",
   "execution_count": null,
   "metadata": {},
   "outputs": [],
   "source": [
    "objective_function_calls = 0\n",
    "\n",
    "searcher = SurrogateSearch(opt_problem,\n",
    "                               ydat,\n",
    "                               2,\n",
    "                               [0,0],\n",
    "                               [1,1])\n",
    "    \n",
    "for itt in range(15):\n",
    "    searcher.step_search()\n",
    "    plot_optimizer_results_with_rec(searcher.search_state[\"pos_x\"],\n",
    "                            xdat,\n",
    "                            ydat,\n",
    "                            searcher.search_state[\"surrogatesaves\"],\n",
    "                            searcher.search_state[\"centersaves\"],\n",
    "                            searcher.search_state[\"surrogate_recommendations\"][0],\n",
    "                            optproblem = opt_problem)\n",
    "    print(searcher.search_state[\"pos_x\"])\n",
    "    print(searcher.search_state[\"surrogate_recommendations\"])\n",
    "    print(f\"Objective Function Calls: {objective_function_calls}\")"
   ]
  },
  {
   "cell_type": "markdown",
   "metadata": {},
   "source": [
    "## Search-Initialized Surrogate Swarm Test"
   ]
  },
  {
   "cell_type": "code",
   "execution_count": null,
   "metadata": {},
   "outputs": [],
   "source": [
    "objective_function_calls = 0\n",
    "\n",
    "searchswarmer = SurrogateSwarm(opt_problem,\n",
    "                            ydat,\n",
    "                            2,\n",
    "                            [0,0],\n",
    "                            [1,1],\n",
    "                            surrogatesaves=searcher.search_state[\"surrogatesaves\"],\n",
    "                            centersaves=searcher.search_state[\"centersaves\"],\n",
    "                            all_pos=searcher.search_state[\"all_pos\"],\n",
    "                            all_results=searcher.search_state[\"all_results\"])\n",
    "\n",
    "for itt in range(20):\n",
    "        searchswarmer.step_swarm()\n",
    "        searchswarmer.swarm_state[\"surrogate_recommendations\"]\n",
    "        plot_optimizer_results_with_rec(searchswarmer.swarm_state[\"pos_x\"],\n",
    "                               xdat,\n",
    "                               ydat,\n",
    "                               searchswarmer.swarm_state[\"surrogatesaves\"],\n",
    "                               searchswarmer.swarm_state[\"centersaves\"],\n",
    "                               searchswarmer.swarm_state[\"surrogate_recommendations\"],\n",
    "                               optproblem = opt_problem\n",
    "                               )\n",
    "        # print(np.mean(searchswarmer.swarm_state[\"pos_x\"],axis = 0))\n",
    "        print(searchswarmer.swarm_state[\"surrogate_recommendations\"])\n",
    "        print(f\"Objective Function Calls: {objective_function_calls}\")"
   ]
  }
 ],
 "metadata": {
  "kernelspec": {
   "display_name": "Python 3",
   "language": "python",
   "name": "python3"
  },
  "language_info": {
   "codemirror_mode": {
    "name": "ipython",
    "version": 3
   },
   "file_extension": ".py",
   "mimetype": "text/x-python",
   "name": "python",
   "nbconvert_exporter": "python",
   "pygments_lexer": "ipython3",
   "version": "3.8.3"
  }
 },
 "nbformat": 4,
 "nbformat_minor": 2
}
